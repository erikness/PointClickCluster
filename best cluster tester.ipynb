{
 "cells": [
  {
   "cell_type": "code",
   "execution_count": 2,
   "metadata": {
    "collapsed": false
   },
   "outputs": [],
   "source": [
    "%matplotlib inline"
   ]
  },
  {
   "cell_type": "code",
   "execution_count": 17,
   "metadata": {
    "collapsed": false
   },
   "outputs": [],
   "source": [
    "import os\n",
    "import numpy as np\n",
    "from sklearn.cluster import KMeans\n",
    "import pandas as pd"
   ]
  },
  {
   "cell_type": "code",
   "execution_count": 18,
   "metadata": {
    "collapsed": true
   },
   "outputs": [],
   "source": [
    "def array_from_text(text):\n",
    "    text_points = text.replace(' ', '').replace('\\n', '').replace(')', '').replace('(', '').split(';')\n",
    "    pairs = []\n",
    "    for text_point in text_points:\n",
    "        pair = [float(x) for x in text_point.split(',')]\n",
    "        pairs.append(pair)\n",
    "    return np.array(pairs)\n",
    "\n",
    "def euclidean(p1, p2):\n",
    "    return np.sqrt((p1[0] - p2[0]) ** 2 + (p1[1] - p2[1]) ** 2)\n",
    "\n",
    "def between_cluster_sum_of_squares(kmeans_result):\n",
    "    total_error = 0\n",
    "    total_mean = np.mean(kmeans_result.cluster_centers_, axis=0)\n",
    "    for point in kmeans_result.cluster_centers_:\n",
    "        total_error += euclidean(point, total_mean) ** 2\n",
    "    return total_error\n",
    "\n",
    "def find_elbow(series):\n",
    "    # idea: find the point with the sharpest change"
   ]
  },
  {
   "cell_type": "code",
   "execution_count": 19,
   "metadata": {
    "collapsed": false
   },
   "outputs": [],
   "source": [
    "file_handles = [open('datasets/' + file) for file in os.listdir('datasets')]\n",
    "#[fh.close() for fh in file_handles]"
   ]
  },
  {
   "cell_type": "code",
   "execution_count": 24,
   "metadata": {
    "collapsed": false
   },
   "outputs": [],
   "source": [
    "arr = array_from_text(file_handles[2].read())"
   ]
  },
  {
   "cell_type": "code",
   "execution_count": 21,
   "metadata": {
    "collapsed": false
   },
   "outputs": [
    {
     "data": {
      "text/plain": [
       "array([[ 0.,  0.],\n",
       "       [ 4.,  4.],\n",
       "       [ 3., -3.],\n",
       "       [-2., -4.],\n",
       "       [ 3.,  1.],\n",
       "       [-1.,  1.],\n",
       "       [-3., -4.],\n",
       "       [-1., -1.]])"
      ]
     },
     "execution_count": 21,
     "metadata": {},
     "output_type": "execute_result"
    }
   ],
   "source": [
    "arr"
   ]
  },
  {
   "cell_type": "code",
   "execution_count": 25,
   "metadata": {
    "collapsed": false
   },
   "outputs": [
    {
     "data": {
      "text/plain": [
       "37.518518518518519"
      ]
     },
     "execution_count": 25,
     "metadata": {},
     "output_type": "execute_result"
    }
   ],
   "source": [
    "kmeans = KMeans(n_clusters=3)\n",
    "result = kmeans.fit(arr)\n",
    "result.labels_\n",
    "result.inertia_\n",
    "result.cluster_centers_\n",
    "between_cluster_sum_of_squares(result)"
   ]
  },
  {
   "cell_type": "code",
   "execution_count": 26,
   "metadata": {
    "collapsed": false
   },
   "outputs": [
    {
     "data": {
      "text/plain": [
       "4.4999999999999929"
      ]
     },
     "execution_count": 26,
     "metadata": {},
     "output_type": "execute_result"
    }
   ],
   "source": [
    "result.inertia_"
   ]
  },
  {
   "cell_type": "code",
   "execution_count": 29,
   "metadata": {
    "collapsed": false
   },
   "outputs": [],
   "source": [
    "kmeans_raw_objects = [KMeans(n_clusters=n) for n in range(2, len(arr))]\n",
    "kmeans_results_objects = [kmeans.fit(arr) for kmeans in kmeans_raw_objects]\n",
    "within_series = pd.Series({n: result.inertia_ for n, result in zip(range(2, len(arr)), kmeans_results_objects)})\n",
    "between_series = pd.Series(\n",
    "    {n: between_cluster_sum_of_squares(result) for n, result in zip(range(2, len(arr)), kmeans_results_objects)})"
   ]
  },
  {
   "cell_type": "code",
   "execution_count": 42,
   "metadata": {
    "collapsed": false
   },
   "outputs": [
    {
     "data": {
      "text/plain": [
       "<matplotlib.axes._subplots.AxesSubplot at 0xa574d68>"
      ]
     },
     "execution_count": 42,
     "metadata": {},
     "output_type": "execute_result"
    },
    {
     "data": {
      "image/png": "[encoded data removed]",
      "text/plain": [
       "<matplotlib.figure.Figure at 0xa5489b0>"
      ]
     },
     "metadata": {},
     "output_type": "display_data"
    }
   ],
   "source": [
    "within_series.plot()\n",
    "between_series.plot()\n",
    "#(between_series - within_series).plot()"
   ]
  },
  {
   "cell_type": "code",
   "execution_count": 36,
   "metadata": {
    "collapsed": false
   },
   "outputs": [],
   "source": [
    "from itertools import islice\n",
    "def n_grams(a, n):\n",
    "    z = (islice(a, i, None) for i in range(n))\n",
    "    return zip(*z)"
   ]
  },
  {
   "cell_type": "code",
   "execution_count": 43,
   "metadata": {
    "collapsed": false
   },
   "outputs": [
    {
     "data": {
      "text/plain": [
       "[-42.208333333333336,\n",
       " -1.4166666666666647,\n",
       " -1.2083333333333326,\n",
       " -0.74999999999999467,\n",
       " -0.62500000000000089,\n",
       " -0.25000000000000355]"
      ]
     },
     "execution_count": 43,
     "metadata": {},
     "output_type": "execute_result"
    }
   ],
   "source": [
    "jumps_it = map(lambda t: t[1] - t[0], n_grams(within_series, 2))\n",
    "list(jumps_it)\n",
    "# is there a point at which it"
   ]
  },
  {
   "cell_type": "code",
   "execution_count": null,
   "metadata": {
    "collapsed": true
   },
   "outputs": [],
   "source": []
  }
 ],
 "metadata": {
  "kernelspec": {
   "display_name": "Python 3",
   "language": "python",
   "name": "python3"
  },
  "language_info": {
   "codemirror_mode": {
    "name": "ipython",
    "version": 3
   },
   "file_extension": ".py",
   "mimetype": "text/x-python",
   "name": "python",
   "nbconvert_exporter": "python",
   "pygments_lexer": "ipython3",
   "version": "3.3.5"
  }
 },
 "nbformat": 4,
 "nbformat_minor": 0
}
