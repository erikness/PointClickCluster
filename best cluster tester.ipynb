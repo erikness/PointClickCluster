{
 "cells": [
  {
   "cell_type": "code",
   "execution_count": 2,
   "metadata": {
    "collapsed": false
   },
   "outputs": [],
   "source": [
    "%matplotlib inline"
   ]
  },
  {
   "cell_type": "code",
   "execution_count": 52,
   "metadata": {
    "collapsed": false
   },
   "outputs": [],
   "source": [
    "import os\n",
    "import numpy as np\n",
    "from sklearn.cluster import KMeans\n",
    "import pandas as pd\n",
    "from itertools import islice, product"
   ]
  },
  {
   "cell_type": "code",
   "execution_count": 59,
   "metadata": {
    "collapsed": true
   },
   "outputs": [],
   "source": [
    "def array_from_text(text):\n",
    "    text_stripped = text.replace(' ', '').replace('\\n', '')\n",
    "    meta, content = tuple(text_stripped.split('$'))\n",
    "    text_points = content.replace(')', '').replace('(', '').split(';')\n",
    "    pairs = []\n",
    "    for text_point in text_points:\n",
    "        pair = [float(x) for x in text_point.split(',')]\n",
    "        pairs.append(pair)\n",
    "    return np.array(pairs)\n",
    "\n",
    "def euclidean(p1, p2):\n",
    "    return np.sqrt((p1[0] - p2[0]) ** 2 + (p1[1] - p2[1]) ** 2)\n",
    "\n",
    "def between_cluster_sum_of_squares(kmeans_result):\n",
    "    total_error = 0\n",
    "    total_mean = np.mean(kmeans_result.cluster_centers_, axis=0)\n",
    "    for point in kmeans_result.cluster_centers_:\n",
    "        total_error += euclidean(point, total_mean) ** 2\n",
    "    return total_error\n",
    "\n",
    "def find_elbow(series):\n",
    "    # idea: find the point with the sharpest change\n",
    "    pass\n",
    "\n",
    "def n_grams(a, n):\n",
    "    z = (islice(a, i, None) for i in range(n))\n",
    "    return zip(*z)\n",
    "\n",
    "def avg_distance_from_center(points):\n",
    "    centroid = np.mean(points, axis=0)\n",
    "    result = 0\n",
    "    for p in points:\n",
    "        result += euclidean(p, centroid) / len(points)\n",
    "    return result\n",
    "\n",
    "def avg_distance_from_other_clusters(points):\n",
    "    centroid = np.mean(points, axis=0)\n",
    "    result = 0\n",
    "    for p, q in product(points, points):\n",
    "        if p == q:\n",
    "            continue\n",
    "        result += euclidean(p, centroid) / len(points)\n",
    "    return result"
   ]
  },
  {
   "cell_type": "code",
   "execution_count": 81,
   "metadata": {
    "collapsed": false
   },
   "outputs": [],
   "source": [
    "file_handles = [open('datasets/' + file) for file in os.listdir('datasets')]"
   ]
  },
  {
   "cell_type": "code",
   "execution_count": 80,
   "metadata": {
    "collapsed": false
   },
   "outputs": [
    {
     "data": {
      "text/plain": [
       "[None, None, None]"
      ]
     },
     "execution_count": 80,
     "metadata": {},
     "output_type": "execute_result"
    }
   ],
   "source": [
    "[fh.close() for fh in file_handles]"
   ]
  },
  {
   "cell_type": "code",
   "execution_count": 82,
   "metadata": {
    "collapsed": false
   },
   "outputs": [],
   "source": [
    "arr = array_from_text(file_handles[0].read())"
   ]
  },
  {
   "cell_type": "code",
   "execution_count": 83,
   "metadata": {
    "collapsed": false
   },
   "outputs": [],
   "source": [
    "kmeans_raw_objects = [KMeans(n_clusters=n) for n in range(2, len(arr))]\n",
    "kmeans_results_objects = [kmeans.fit(arr) for kmeans in kmeans_raw_objects]\n",
    "within_series = pd.Series({n: result.inertia_ for n, result in zip(range(2, len(arr)), kmeans_results_objects)})\n",
    "between_series = pd.Series(\n",
    "    {n: between_cluster_sum_of_squares(result) for n, result in zip(range(2, len(arr)), kmeans_results_objects)})\n",
    "avg_from_center_series = pd.Series(\n",
    "    {n: avg_distance_from_center(result.cluster_centers_) for n, result in zip(range(2, len(arr)), kmeans_results_objects)})"
   ]
  },
  {
   "cell_type": "code",
   "execution_count": 84,
   "metadata": {
    "collapsed": false
   },
   "outputs": [
    {
     "data": {
      "text/plain": [
       "<matplotlib.axes._subplots.AxesSubplot at 0xb361ac8>"
      ]
     },
     "execution_count": 84,
     "metadata": {},
     "output_type": "execute_result"
    },
    {
     "data": {
      "image/png": "[encoded data removed]",
      "text/plain": [
       "<matplotlib.figure.Figure at 0xb651278>"
      ]
     },
     "metadata": {},
     "output_type": "display_data"
    }
   ],
   "source": [
    "within_series.plot()\n",
    "between_series.plot()\n",
    "#(between_series - within_series).plot()"
   ]
  },
  {
   "cell_type": "code",
   "execution_count": 85,
   "metadata": {
    "collapsed": false
   },
   "outputs": [
    {
     "data": {
      "text/plain": [
       "16.354166666666664"
      ]
     },
     "execution_count": 85,
     "metadata": {},
     "output_type": "execute_result"
    }
   ],
   "source": [
    "kmeans_results_objects[1].inertia_"
   ]
  },
  {
   "cell_type": "code",
   "execution_count": null,
   "metadata": {
    "collapsed": false
   },
   "outputs": [],
   "source": []
  },
  {
   "cell_type": "code",
   "execution_count": null,
   "metadata": {
    "collapsed": false
   },
   "outputs": [],
   "source": []
  },
  {
   "cell_type": "code",
   "execution_count": null,
   "metadata": {
    "collapsed": false
   },
   "outputs": [],
   "source": []
  },
  {
   "cell_type": "code",
   "execution_count": null,
   "metadata": {
    "collapsed": true
   },
   "outputs": [],
   "source": []
  }
 ],
 "metadata": {
  "kernelspec": {
   "display_name": "Python 3",
   "language": "python",
   "name": "python3"
  },
  "language_info": {
   "codemirror_mode": {
    "name": "ipython",
    "version": 3
   },
   "file_extension": ".py",
   "mimetype": "text/x-python",
   "name": "python",
   "nbconvert_exporter": "python",
   "pygments_lexer": "ipython3",
   "version": "3.3.5"
  }
 },
 "nbformat": 4,
 "nbformat_minor": 0
}
